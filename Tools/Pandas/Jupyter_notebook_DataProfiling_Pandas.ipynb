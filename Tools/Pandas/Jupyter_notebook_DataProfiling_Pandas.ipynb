{
 "cells": [
  {
   "cell_type": "markdown",
   "metadata": {},
   "source": [
    "# Script for Data Profiling with Pandas"
   ]
  },
  {
   "cell_type": "markdown",
   "metadata": {},
   "source": [
    "## Imoprt packages"
   ]
  },
  {
   "cell_type": "code",
   "execution_count": 3,
   "metadata": {},
   "outputs": [],
   "source": [
    "import pandas as pd\n",
    "import pyodbc\n",
    "import sys\n",
    "#pip install pandas-profiling \n",
    "import pandas_profiling \n",
    "from pandas_profiling import ProfileReport\n",
    "import os\n",
    "#pip install psycopg2\n",
    "import psycopg2 as pg\n"
   ]
  },
  {
   "cell_type": "markdown",
   "metadata": {},
   "source": [
    "## setting environmental varibales"
   ]
  },
  {
   "cell_type": "code",
   "execution_count": 4,
   "metadata": {},
   "outputs": [],
   "source": [
    "# parameters DB and table\n",
    "table_name_from_database= 'payers'\n",
    "DB = {'servername': 'PC0DZ6Y5',\n",
    "      'database': 'SYNTHEA_DB'}\n"
   ]
  },
  {
   "cell_type": "markdown",
   "metadata": {},
   "source": [
    "## Database connection"
   ]
  },
  {
   "cell_type": "code",
   "execution_count": 5,
   "metadata": {},
   "outputs": [
    {
     "data": {
      "text/plain": [
       "(10, 21)"
      ]
     },
     "execution_count": 5,
     "metadata": {},
     "output_type": "execute_result"
    }
   ],
   "source": [
    "conn = pyodbc.connect('DRIVER={SQL Server};SERVER=' + DB['servername'] + ';DATABASE=' + DB['database'] + ';Trusted_Connection=yes')\n",
    "payer = pd.read_sql_query(f\"\"\"select * from {table_name_from_database} \"\"\", conn)\n",
    "#Check data dimention\n",
    "payer.shape\n"
   ]
  },
  {
   "cell_type": "code",
   "execution_count": 10,
   "metadata": {},
   "outputs": [
    {
     "data": {
      "text/html": [
       "<div>\n",
       "<style scoped>\n",
       "    .dataframe tbody tr th:only-of-type {\n",
       "        vertical-align: middle;\n",
       "    }\n",
       "\n",
       "    .dataframe tbody tr th {\n",
       "        vertical-align: top;\n",
       "    }\n",
       "\n",
       "    .dataframe thead th {\n",
       "        text-align: right;\n",
       "    }\n",
       "</style>\n",
       "<table border=\"1\" class=\"dataframe\">\n",
       "  <thead>\n",
       "    <tr style=\"text-align: right;\">\n",
       "      <th></th>\n",
       "      <th>Id</th>\n",
       "      <th>NAME</th>\n",
       "      <th>ADDRESS</th>\n",
       "      <th>CITY</th>\n",
       "      <th>STATE_HEADQUARTERED</th>\n",
       "      <th>ZIP</th>\n",
       "      <th>PHONE</th>\n",
       "      <th>AMOUNT_COVERED</th>\n",
       "      <th>AMOUNT_UNCOVERED</th>\n",
       "      <th>REVENUE</th>\n",
       "      <th>...</th>\n",
       "      <th>UNCOVERED_ENCOUNTERS</th>\n",
       "      <th>COVERED_MEDICATIONS</th>\n",
       "      <th>UNCOVERED_MEDICATIONS</th>\n",
       "      <th>COVERED_PROCEDURES</th>\n",
       "      <th>UNCOVERED_PROCEDURES</th>\n",
       "      <th>COVERED_IMMUNIZATIONS</th>\n",
       "      <th>UNCOVERED_IMMUNIZATIONS</th>\n",
       "      <th>UNIQUE_CUSTOMERS</th>\n",
       "      <th>QOLS_AVG</th>\n",
       "      <th>MEMBER_MONTHS</th>\n",
       "    </tr>\n",
       "  </thead>\n",
       "  <tbody>\n",
       "    <tr>\n",
       "      <th>0</th>\n",
       "      <td>b3221cfc-24fb-339e-823d-bc4136cbc4ed</td>\n",
       "      <td>Dual Eligible</td>\n",
       "      <td>7500 Security Blvd</td>\n",
       "      <td>Baltimore</td>\n",
       "      <td>MD</td>\n",
       "      <td>21244.0</td>\n",
       "      <td>1-877-267-2323</td>\n",
       "      <td>141676.87</td>\n",
       "      <td>119449.83</td>\n",
       "      <td>1305000.0</td>\n",
       "      <td>...</td>\n",
       "      <td>0</td>\n",
       "      <td>556</td>\n",
       "      <td>0</td>\n",
       "      <td>280</td>\n",
       "      <td>0</td>\n",
       "      <td>223</td>\n",
       "      <td>0</td>\n",
       "      <td>25</td>\n",
       "      <td>0.362810</td>\n",
       "      <td>3348</td>\n",
       "    </tr>\n",
       "    <tr>\n",
       "      <th>1</th>\n",
       "      <td>7caa7254-5050-3b5e-9eae-bd5ea30e809c</td>\n",
       "      <td>Medicare</td>\n",
       "      <td>7500 Security Blvd</td>\n",
       "      <td>Baltimore</td>\n",
       "      <td>MD</td>\n",
       "      <td>21244.0</td>\n",
       "      <td>1-800-633-4227</td>\n",
       "      <td>4756720.13</td>\n",
       "      <td>890394.37</td>\n",
       "      <td>7122250.0</td>\n",
       "      <td>...</td>\n",
       "      <td>0</td>\n",
       "      <td>13471</td>\n",
       "      <td>0</td>\n",
       "      <td>7383</td>\n",
       "      <td>0</td>\n",
       "      <td>2557</td>\n",
       "      <td>0</td>\n",
       "      <td>198</td>\n",
       "      <td>0.786223</td>\n",
       "      <td>29760</td>\n",
       "    </tr>\n",
       "    <tr>\n",
       "      <th>2</th>\n",
       "      <td>7c4411ce-02f1-39b5-b9ec-dfbea9ad3c1a</td>\n",
       "      <td>Medicaid</td>\n",
       "      <td>7500 Security Blvd</td>\n",
       "      <td>Baltimore</td>\n",
       "      <td>MD</td>\n",
       "      <td>21244.0</td>\n",
       "      <td>1-877-267-2323</td>\n",
       "      <td>3636994.03</td>\n",
       "      <td>1814967.93</td>\n",
       "      <td>20365500.0</td>\n",
       "      <td>...</td>\n",
       "      <td>0</td>\n",
       "      <td>6382</td>\n",
       "      <td>0</td>\n",
       "      <td>47611</td>\n",
       "      <td>0</td>\n",
       "      <td>7022</td>\n",
       "      <td>0</td>\n",
       "      <td>507</td>\n",
       "      <td>0.812137</td>\n",
       "      <td>84276</td>\n",
       "    </tr>\n",
       "    <tr>\n",
       "      <th>3</th>\n",
       "      <td>d47b3510-2895-3b70-9897-342d681c769d</td>\n",
       "      <td>Humana</td>\n",
       "      <td>500 West Main St</td>\n",
       "      <td>Louisville</td>\n",
       "      <td>KY</td>\n",
       "      <td>40018.0</td>\n",
       "      <td>1-844-330-7799</td>\n",
       "      <td>716971.60</td>\n",
       "      <td>842531.43</td>\n",
       "      <td>118500200.0</td>\n",
       "      <td>...</td>\n",
       "      <td>1796</td>\n",
       "      <td>0</td>\n",
       "      <td>4985</td>\n",
       "      <td>12718</td>\n",
       "      <td>550</td>\n",
       "      <td>6832</td>\n",
       "      <td>195</td>\n",
       "      <td>281</td>\n",
       "      <td>0.911843</td>\n",
       "      <td>70308</td>\n",
       "    </tr>\n",
       "    <tr>\n",
       "      <th>4</th>\n",
       "      <td>6e2f1a2d-27bd-3701-8d08-dae202c58632</td>\n",
       "      <td>Blue Cross Blue Shield</td>\n",
       "      <td>Michigan Plaza</td>\n",
       "      <td>Chicago</td>\n",
       "      <td>IL</td>\n",
       "      <td>60007.0</td>\n",
       "      <td>1-800-262-2583</td>\n",
       "      <td>2741717.82</td>\n",
       "      <td>1431463.91</td>\n",
       "      <td>140652000.0</td>\n",
       "      <td>...</td>\n",
       "      <td>0</td>\n",
       "      <td>6159</td>\n",
       "      <td>0</td>\n",
       "      <td>15312</td>\n",
       "      <td>0</td>\n",
       "      <td>7520</td>\n",
       "      <td>0</td>\n",
       "      <td>307</td>\n",
       "      <td>0.907256</td>\n",
       "      <td>78768</td>\n",
       "    </tr>\n",
       "  </tbody>\n",
       "</table>\n",
       "<p>5 rows × 21 columns</p>\n",
       "</div>"
      ],
      "text/plain": [
       "                                     Id                    NAME  \\\n",
       "0  b3221cfc-24fb-339e-823d-bc4136cbc4ed           Dual Eligible   \n",
       "1  7caa7254-5050-3b5e-9eae-bd5ea30e809c                Medicare   \n",
       "2  7c4411ce-02f1-39b5-b9ec-dfbea9ad3c1a                Medicaid   \n",
       "3  d47b3510-2895-3b70-9897-342d681c769d                  Humana   \n",
       "4  6e2f1a2d-27bd-3701-8d08-dae202c58632  Blue Cross Blue Shield   \n",
       "\n",
       "              ADDRESS        CITY STATE_HEADQUARTERED      ZIP  \\\n",
       "0  7500 Security Blvd   Baltimore                  MD  21244.0   \n",
       "1  7500 Security Blvd   Baltimore                  MD  21244.0   \n",
       "2  7500 Security Blvd   Baltimore                  MD  21244.0   \n",
       "3    500 West Main St  Louisville                  KY  40018.0   \n",
       "4      Michigan Plaza     Chicago                  IL  60007.0   \n",
       "\n",
       "            PHONE  AMOUNT_COVERED  AMOUNT_UNCOVERED      REVENUE  ...  \\\n",
       "0  1-877-267-2323       141676.87         119449.83    1305000.0  ...   \n",
       "1  1-800-633-4227      4756720.13         890394.37    7122250.0  ...   \n",
       "2  1-877-267-2323      3636994.03        1814967.93   20365500.0  ...   \n",
       "3  1-844-330-7799       716971.60         842531.43  118500200.0  ...   \n",
       "4  1-800-262-2583      2741717.82        1431463.91  140652000.0  ...   \n",
       "\n",
       "   UNCOVERED_ENCOUNTERS  COVERED_MEDICATIONS  UNCOVERED_MEDICATIONS  \\\n",
       "0                     0                  556                      0   \n",
       "1                     0                13471                      0   \n",
       "2                     0                 6382                      0   \n",
       "3                  1796                    0                   4985   \n",
       "4                     0                 6159                      0   \n",
       "\n",
       "   COVERED_PROCEDURES  UNCOVERED_PROCEDURES  COVERED_IMMUNIZATIONS  \\\n",
       "0                 280                     0                    223   \n",
       "1                7383                     0                   2557   \n",
       "2               47611                     0                   7022   \n",
       "3               12718                   550                   6832   \n",
       "4               15312                     0                   7520   \n",
       "\n",
       "   UNCOVERED_IMMUNIZATIONS  UNIQUE_CUSTOMERS  QOLS_AVG  MEMBER_MONTHS  \n",
       "0                        0                25  0.362810           3348  \n",
       "1                        0               198  0.786223          29760  \n",
       "2                        0               507  0.812137          84276  \n",
       "3                      195               281  0.911843          70308  \n",
       "4                        0               307  0.907256          78768  \n",
       "\n",
       "[5 rows x 21 columns]"
      ]
     },
     "execution_count": 10,
     "metadata": {},
     "output_type": "execute_result"
    }
   ],
   "source": [
    "# Read data fromm CSV\n",
    "payer_csv=pd.read_csv ('payers.csv')\n",
    "\n",
    "# check data dimention\n",
    "payer_csv.shape\n",
    "\n",
    "#check data head\n",
    "payer_csv.head()"
   ]
  },
  {
   "cell_type": "markdown",
   "metadata": {},
   "source": [
    "## Data Profiling"
   ]
  },
  {
   "cell_type": "code",
   "execution_count": 52,
   "metadata": {},
   "outputs": [
    {
     "data": {
      "text/plain": [
       "Id                          object\n",
       "NAME                        object\n",
       "ADDRESS                     object\n",
       "CITY                        object\n",
       "STATE_HEADQUARTERED         object\n",
       "ZIP                        float64\n",
       "PHONE                       object\n",
       "AMOUNT_COVERED             float64\n",
       "AMOUNT_UNCOVERED           float64\n",
       "REVENUE                    float64\n",
       "COVERED_ENCOUNTERS          object\n",
       "UNCOVERED_ENCOUNTERS        object\n",
       "COVERED_MEDICATIONS         object\n",
       "UNCOVERED_MEDICATIONS       object\n",
       "COVERED_PROCEDURES          object\n",
       "UNCOVERED_PROCEDURES        object\n",
       "COVERED_IMMUNIZATIONS       object\n",
       "UNCOVERED_IMMUNIZATIONS     object\n",
       "UNIQUE_CUSTOMERS             int64\n",
       "QOLS_AVG                   float64\n",
       "MEMBER_MONTHS                int64\n",
       "dtype: object"
      ]
     },
     "execution_count": 52,
     "metadata": {},
     "output_type": "execute_result"
    }
   ],
   "source": [
    "#to check data types\n",
    "payer.dtypes"
   ]
  },
  {
   "cell_type": "code",
   "execution_count": 11,
   "metadata": {},
   "outputs": [
    {
     "name": "stdout",
     "output_type": "stream",
     "text": [
      "<class 'pandas.core.frame.DataFrame'>\n",
      "RangeIndex: 10 entries, 0 to 9\n",
      "Data columns (total 21 columns):\n",
      " #   Column                   Non-Null Count  Dtype  \n",
      "---  ------                   --------------  -----  \n",
      " 0   Id                       10 non-null     object \n",
      " 1   NAME                     10 non-null     object \n",
      " 2   ADDRESS                  9 non-null      object \n",
      " 3   CITY                     9 non-null      object \n",
      " 4   STATE_HEADQUARTERED      9 non-null      object \n",
      " 5   ZIP                      9 non-null      float64\n",
      " 6   PHONE                    9 non-null      object \n",
      " 7   AMOUNT_COVERED           10 non-null     float64\n",
      " 8   AMOUNT_UNCOVERED         10 non-null     float64\n",
      " 9   REVENUE                  10 non-null     float64\n",
      " 10  COVERED_ENCOUNTERS       10 non-null     object \n",
      " 11  UNCOVERED_ENCOUNTERS     10 non-null     object \n",
      " 12  COVERED_MEDICATIONS      10 non-null     object \n",
      " 13  UNCOVERED_MEDICATIONS    10 non-null     object \n",
      " 14  COVERED_PROCEDURES       10 non-null     object \n",
      " 15  UNCOVERED_PROCEDURES     10 non-null     object \n",
      " 16  COVERED_IMMUNIZATIONS    10 non-null     object \n",
      " 17  UNCOVERED_IMMUNIZATIONS  10 non-null     object \n",
      " 18  UNIQUE_CUSTOMERS         10 non-null     int64  \n",
      " 19  QOLS_AVG                 10 non-null     float64\n",
      " 20  MEMBER_MONTHS            10 non-null     int64  \n",
      "dtypes: float64(5), int64(2), object(14)\n",
      "memory usage: 1.8+ KB\n"
     ]
    }
   ],
   "source": [
    "payer.info()"
   ]
  },
  {
   "cell_type": "code",
   "execution_count": 14,
   "metadata": {},
   "outputs": [
    {
     "data": {
      "application/vnd.jupyter.widget-view+json": {
       "model_id": "1fb0b62554e846c1ba80ff898e746bf6",
       "version_major": 2,
       "version_minor": 0
      },
      "text/plain": [
       "HBox(children=(FloatProgress(value=0.0, description='Summarize dataset', max=35.0, style=ProgressStyle(descrip…"
      ]
     },
     "metadata": {},
     "output_type": "display_data"
    },
    {
     "name": "stdout",
     "output_type": "stream",
     "text": [
      "\n"
     ]
    },
    {
     "data": {
      "application/vnd.jupyter.widget-view+json": {
       "model_id": "9af47ba5201b4a928e197e71b38151b2",
       "version_major": 2,
       "version_minor": 0
      },
      "text/plain": [
       "HBox(children=(FloatProgress(value=0.0, description='Generate report structure', max=1.0, style=ProgressStyle(…"
      ]
     },
     "metadata": {},
     "output_type": "display_data"
    },
    {
     "name": "stdout",
     "output_type": "stream",
     "text": [
      "\n"
     ]
    },
    {
     "data": {
      "application/vnd.jupyter.widget-view+json": {
       "model_id": "62eb9c1ecef541c69db2f71c3b8a701b",
       "version_major": 2,
       "version_minor": 0
      },
      "text/plain": [
       "HBox(children=(FloatProgress(value=0.0, description='Render HTML', max=1.0, style=ProgressStyle(description_wi…"
      ]
     },
     "metadata": {},
     "output_type": "display_data"
    },
    {
     "name": "stdout",
     "output_type": "stream",
     "text": [
      "\n"
     ]
    },
    {
     "data": {
      "application/vnd.jupyter.widget-view+json": {
       "model_id": "7d23d279c19145539a1d6781a3bd1d67",
       "version_major": 2,
       "version_minor": 0
      },
      "text/plain": [
       "HBox(children=(FloatProgress(value=0.0, description='Export report to file', max=1.0, style=ProgressStyle(desc…"
      ]
     },
     "metadata": {},
     "output_type": "display_data"
    },
    {
     "name": "stdout",
     "output_type": "stream",
     "text": [
      "\n"
     ]
    },
    {
     "data": {
      "application/vnd.jupyter.widget-view+json": {
       "model_id": "17e642d3aff84d7c902c47ff0e9ba298",
       "version_major": 2,
       "version_minor": 0
      },
      "text/plain": [
       "HBox(children=(FloatProgress(value=0.0, description='Render JSON', max=1.0, style=ProgressStyle(description_wi…"
      ]
     },
     "metadata": {},
     "output_type": "display_data"
    },
    {
     "name": "stdout",
     "output_type": "stream",
     "text": [
      "\n"
     ]
    },
    {
     "data": {
      "application/vnd.jupyter.widget-view+json": {
       "model_id": "3887e4c0ae23464580d04e2538e8f175",
       "version_major": 2,
       "version_minor": 0
      },
      "text/plain": [
       "HBox(children=(FloatProgress(value=0.0, description='Export report to file', max=1.0, style=ProgressStyle(desc…"
      ]
     },
     "metadata": {},
     "output_type": "display_data"
    },
    {
     "name": "stdout",
     "output_type": "stream",
     "text": [
      "\n"
     ]
    }
   ],
   "source": [
    "# minimum mode a simplified report will be generated \n",
    "# with less information than the full one but it can\n",
    "# be generated relatively quickly for a large dataset\n",
    "\n",
    "profile_payer = pandas_profiling.ProfileReport(payer)\n",
    "profile_payer.to_file(output_file='payer_profiling.html')\n",
    "profile_payer.to_file(output_file='payer_profiling.json')"
   ]
  },
  {
   "cell_type": "code",
   "execution_count": 8,
   "metadata": {},
   "outputs": [
    {
     "data": {
      "text/html": [
       "<div>\n",
       "<style scoped>\n",
       "    .dataframe tbody tr th:only-of-type {\n",
       "        vertical-align: middle;\n",
       "    }\n",
       "\n",
       "    .dataframe tbody tr th {\n",
       "        vertical-align: top;\n",
       "    }\n",
       "\n",
       "    .dataframe thead th {\n",
       "        text-align: right;\n",
       "    }\n",
       "</style>\n",
       "<table border=\"1\" class=\"dataframe\">\n",
       "  <thead>\n",
       "    <tr style=\"text-align: right;\">\n",
       "      <th></th>\n",
       "      <th>gender_concept_id</th>\n",
       "      <th>year_of_birth</th>\n",
       "      <th>month_of_birth</th>\n",
       "      <th>day_of_birth</th>\n",
       "      <th>race_concept_id</th>\n",
       "      <th>ethnicity_concept_id</th>\n",
       "      <th>location_id</th>\n",
       "      <th>provider_id</th>\n",
       "      <th>care_site_id</th>\n",
       "      <th>gender_source_concept_id</th>\n",
       "      <th>race_source_concept_id</th>\n",
       "      <th>ethnicity_source_concept_id</th>\n",
       "    </tr>\n",
       "  </thead>\n",
       "  <tbody>\n",
       "    <tr>\n",
       "      <th>count</th>\n",
       "      <td>1171.0</td>\n",
       "      <td>1171.0</td>\n",
       "      <td>1171.0</td>\n",
       "      <td>1171.0</td>\n",
       "      <td>1171.0</td>\n",
       "      <td>1171.0</td>\n",
       "      <td>0.0</td>\n",
       "      <td>0.0</td>\n",
       "      <td>0.0</td>\n",
       "      <td>1171.0</td>\n",
       "      <td>1171.0</td>\n",
       "      <td>1171.0</td>\n",
       "    </tr>\n",
       "    <tr>\n",
       "      <th>mean</th>\n",
       "      <td>0.0</td>\n",
       "      <td>0.0</td>\n",
       "      <td>0.0</td>\n",
       "      <td>0.0</td>\n",
       "      <td>0.0</td>\n",
       "      <td>0.0</td>\n",
       "      <td>NaN</td>\n",
       "      <td>NaN</td>\n",
       "      <td>NaN</td>\n",
       "      <td>0.0</td>\n",
       "      <td>0.0</td>\n",
       "      <td>0.0</td>\n",
       "    </tr>\n",
       "    <tr>\n",
       "      <th>std</th>\n",
       "      <td>0.0</td>\n",
       "      <td>0.0</td>\n",
       "      <td>0.0</td>\n",
       "      <td>0.0</td>\n",
       "      <td>0.0</td>\n",
       "      <td>0.0</td>\n",
       "      <td>NaN</td>\n",
       "      <td>NaN</td>\n",
       "      <td>NaN</td>\n",
       "      <td>0.0</td>\n",
       "      <td>0.0</td>\n",
       "      <td>0.0</td>\n",
       "    </tr>\n",
       "    <tr>\n",
       "      <th>min</th>\n",
       "      <td>0.0</td>\n",
       "      <td>0.0</td>\n",
       "      <td>0.0</td>\n",
       "      <td>0.0</td>\n",
       "      <td>0.0</td>\n",
       "      <td>0.0</td>\n",
       "      <td>NaN</td>\n",
       "      <td>NaN</td>\n",
       "      <td>NaN</td>\n",
       "      <td>0.0</td>\n",
       "      <td>0.0</td>\n",
       "      <td>0.0</td>\n",
       "    </tr>\n",
       "    <tr>\n",
       "      <th>25%</th>\n",
       "      <td>0.0</td>\n",
       "      <td>0.0</td>\n",
       "      <td>0.0</td>\n",
       "      <td>0.0</td>\n",
       "      <td>0.0</td>\n",
       "      <td>0.0</td>\n",
       "      <td>NaN</td>\n",
       "      <td>NaN</td>\n",
       "      <td>NaN</td>\n",
       "      <td>0.0</td>\n",
       "      <td>0.0</td>\n",
       "      <td>0.0</td>\n",
       "    </tr>\n",
       "    <tr>\n",
       "      <th>50%</th>\n",
       "      <td>0.0</td>\n",
       "      <td>0.0</td>\n",
       "      <td>0.0</td>\n",
       "      <td>0.0</td>\n",
       "      <td>0.0</td>\n",
       "      <td>0.0</td>\n",
       "      <td>NaN</td>\n",
       "      <td>NaN</td>\n",
       "      <td>NaN</td>\n",
       "      <td>0.0</td>\n",
       "      <td>0.0</td>\n",
       "      <td>0.0</td>\n",
       "    </tr>\n",
       "    <tr>\n",
       "      <th>75%</th>\n",
       "      <td>0.0</td>\n",
       "      <td>0.0</td>\n",
       "      <td>0.0</td>\n",
       "      <td>0.0</td>\n",
       "      <td>0.0</td>\n",
       "      <td>0.0</td>\n",
       "      <td>NaN</td>\n",
       "      <td>NaN</td>\n",
       "      <td>NaN</td>\n",
       "      <td>0.0</td>\n",
       "      <td>0.0</td>\n",
       "      <td>0.0</td>\n",
       "    </tr>\n",
       "    <tr>\n",
       "      <th>max</th>\n",
       "      <td>0.0</td>\n",
       "      <td>0.0</td>\n",
       "      <td>0.0</td>\n",
       "      <td>0.0</td>\n",
       "      <td>0.0</td>\n",
       "      <td>0.0</td>\n",
       "      <td>NaN</td>\n",
       "      <td>NaN</td>\n",
       "      <td>NaN</td>\n",
       "      <td>0.0</td>\n",
       "      <td>0.0</td>\n",
       "      <td>0.0</td>\n",
       "    </tr>\n",
       "  </tbody>\n",
       "</table>\n",
       "</div>"
      ],
      "text/plain": [
       "       gender_concept_id  year_of_birth  month_of_birth  day_of_birth  \\\n",
       "count             1171.0         1171.0          1171.0        1171.0   \n",
       "mean                 0.0            0.0             0.0           0.0   \n",
       "std                  0.0            0.0             0.0           0.0   \n",
       "min                  0.0            0.0             0.0           0.0   \n",
       "25%                  0.0            0.0             0.0           0.0   \n",
       "50%                  0.0            0.0             0.0           0.0   \n",
       "75%                  0.0            0.0             0.0           0.0   \n",
       "max                  0.0            0.0             0.0           0.0   \n",
       "\n",
       "       race_concept_id  ethnicity_concept_id  location_id  provider_id  \\\n",
       "count           1171.0                1171.0          0.0          0.0   \n",
       "mean               0.0                   0.0          NaN          NaN   \n",
       "std                0.0                   0.0          NaN          NaN   \n",
       "min                0.0                   0.0          NaN          NaN   \n",
       "25%                0.0                   0.0          NaN          NaN   \n",
       "50%                0.0                   0.0          NaN          NaN   \n",
       "75%                0.0                   0.0          NaN          NaN   \n",
       "max                0.0                   0.0          NaN          NaN   \n",
       "\n",
       "       care_site_id  gender_source_concept_id  race_source_concept_id  \\\n",
       "count           0.0                    1171.0                  1171.0   \n",
       "mean            NaN                       0.0                     0.0   \n",
       "std             NaN                       0.0                     0.0   \n",
       "min             NaN                       0.0                     0.0   \n",
       "25%             NaN                       0.0                     0.0   \n",
       "50%             NaN                       0.0                     0.0   \n",
       "75%             NaN                       0.0                     0.0   \n",
       "max             NaN                       0.0                     0.0   \n",
       "\n",
       "       ethnicity_source_concept_id  \n",
       "count                       1171.0  \n",
       "mean                           0.0  \n",
       "std                            0.0  \n",
       "min                            0.0  \n",
       "25%                            0.0  \n",
       "50%                            0.0  \n",
       "75%                            0.0  \n",
       "max                            0.0  "
      ]
     },
     "execution_count": 8,
     "metadata": {},
     "output_type": "execute_result"
    }
   ],
   "source": [
    "payer.describe()"
   ]
  }
 ],
 "metadata": {
  "kernelspec": {
   "display_name": "Python 3",
   "language": "python",
   "name": "python3"
  },
  "language_info": {
   "codemirror_mode": {
    "name": "ipython",
    "version": 3
   },
   "file_extension": ".py",
   "mimetype": "text/x-python",
   "name": "python",
   "nbconvert_exporter": "python",
   "pygments_lexer": "ipython3",
   "version": "3.7.6"
  }
 },
 "nbformat": 4,
 "nbformat_minor": 4
}
